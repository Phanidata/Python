{
 "cells": [
  {
   "cell_type": "markdown",
   "metadata": {},
   "source": [
    "# Python Data Structures\n",
    "\n",
    "a.Numbers\n",
    "\n",
    "b.Strings\n",
    "\n",
    "c.Lists\n",
    "\n",
    "d.Tuples\n",
    "\n",
    "e.Dictionary"
   ]
  },
  {
   "cell_type": "markdown",
   "metadata": {},
   "source": [
    "# A. Numbers\n",
    "There are three numeric types in Python:\n",
    "1. int\n",
    "2. float\n",
    "3. complex\n",
    "\n",
    "Variables of numeric types are created when you assign a value to them:"
   ]
  },
  {
   "cell_type": "code",
   "execution_count": 1,
   "metadata": {},
   "outputs": [],
   "source": [
    "#Example\n",
    "x = 1    # int\n",
    "y = 2.8  # float\n",
    "z = 1j   # complex"
   ]
  },
  {
   "cell_type": "markdown",
   "metadata": {},
   "source": [
    "To verify the type of any object in Python, use the type() function:"
   ]
  },
  {
   "cell_type": "code",
   "execution_count": 5,
   "metadata": {},
   "outputs": [
    {
     "name": "stdout",
     "output_type": "stream",
     "text": [
      "<class 'int'>\n",
      "<class 'float'>\n",
      "<class 'complex'>\n"
     ]
    }
   ],
   "source": [
    "#Example\n",
    "print(type(x))\n",
    "print(type(y))\n",
    "print(type(z))"
   ]
  },
  {
   "cell_type": "markdown",
   "metadata": {},
   "source": [
    "# 1.Int\n",
    "\n",
    "Int, or integer, is a whole number, positive or negative, without decimals, of unlimited length."
   ]
  },
  {
   "cell_type": "code",
   "execution_count": 7,
   "metadata": {},
   "outputs": [
    {
     "name": "stdout",
     "output_type": "stream",
     "text": [
      "<class 'int'>\n",
      "<class 'int'>\n",
      "<class 'int'>\n"
     ]
    }
   ],
   "source": [
    "#Example\n",
    "#Integers:\n",
    "\n",
    "x = 1\n",
    "y = 35656222554887711\n",
    "z = -3255522\n",
    "\n",
    "print(type(x))\n",
    "print(type(y))\n",
    "print(type(z)) "
   ]
  },
  {
   "cell_type": "markdown",
   "metadata": {},
   "source": [
    "# 2. Float\n",
    "\n",
    "Float, or \"floating point number\" is a number, positive or negative, containing one or more decimals."
   ]
  },
  {
   "cell_type": "code",
   "execution_count": 8,
   "metadata": {},
   "outputs": [
    {
     "name": "stdout",
     "output_type": "stream",
     "text": [
      "<class 'float'>\n",
      "<class 'float'>\n",
      "<class 'float'>\n"
     ]
    }
   ],
   "source": [
    "#Example\n",
    "#Floats:\n",
    "\n",
    "x = 1.10\n",
    "y = 1.0\n",
    "z = -35.59\n",
    "\n",
    "print(type(x))\n",
    "print(type(y))\n",
    "print(type(z)) "
   ]
  },
  {
   "cell_type": "markdown",
   "metadata": {},
   "source": [
    "# 3. Complex\n",
    "\n",
    "Complex numbers are written with a \"j\" as the imaginary part:"
   ]
  },
  {
   "cell_type": "code",
   "execution_count": 1,
   "metadata": {},
   "outputs": [
    {
     "name": "stdout",
     "output_type": "stream",
     "text": [
      "(3+5j)\n",
      "<class 'complex'>\n",
      "<class 'complex'>\n"
     ]
    }
   ],
   "source": [
    "#Example\n",
    "#Complex:\n",
    "\n",
    "x = 3+5j\n",
    "y = 5j\n",
    "z = -5j\n",
    "\n",
    "print(x)\n",
    "print(type(y))\n",
    "print(type(z)) "
   ]
  },
  {
   "cell_type": "markdown",
   "metadata": {},
   "source": [
    "# Type Conversion\n",
    "We can convert one type of number into another. This is also known as coercion.\n",
    "\n",
    "Operations like addition, subtraction coerce integer to float implicitly (automatically), if one of the operand is float.\n",
    "\n",
    "We can also use built-in functions like int(), float() and complex() to convert between types explicitly. These function can even convert from strings."
   ]
  },
  {
   "cell_type": "code",
   "execution_count": 38,
   "metadata": {},
   "outputs": [
    {
     "name": "stdout",
     "output_type": "stream",
     "text": [
      "2\n",
      "-2\n",
      "5.0\n",
      "(3+5j)\n"
     ]
    }
   ],
   "source": [
    "print(int(2.3))                           # type conversion from float to integer\n",
    "print(int(-2.8))                          # type conversion from float to integer\n",
    "print(float(5))                           # type conversion from integer to float\n",
    "print(complex('3+5j'))                    # type conversion from string to complex"
   ]
  },
  {
   "cell_type": "markdown",
   "metadata": {},
   "source": [
    "# Python Mathematics\n",
    "Python offers modules like math and random to carry out different mathematics like trigonometry, logarithms, probability and statistics, etc."
   ]
  },
  {
   "cell_type": "code",
   "execution_count": 40,
   "metadata": {},
   "outputs": [
    {
     "name": "stdout",
     "output_type": "stream",
     "text": [
      "3.141592653589793\n",
      "-1.0\n",
      "22026.465794806718\n",
      "3.0\n",
      "1.1752011936438014\n",
      "720\n"
     ]
    }
   ],
   "source": [
    "import math\n",
    "\n",
    "print(math.pi)\n",
    "print(math.cos(math.pi))\n",
    "print(math.exp(10))\n",
    "print(math.log10(1000))\n",
    "print(math.sinh(1))\n",
    "print(math.factorial(6))"
   ]
  },
  {
   "cell_type": "markdown",
   "metadata": {},
   "source": [
    "# B.Strings\n",
    "\n",
    "Strings in python are enclosed by either single quotes, or double quote.\n",
    "\n",
    "'hello' is the same as \"hello\".\n",
    "\n",
    "Strings can be output to screen using the print function. For example: print(\"hello\").\n",
    "\n",
    "Like many other popular programming languages, strings in Python are arrays of bytes representing unicode characters. However, Python does not have a character data type, a single character is simply a string with a length of 1. Square brackets can be used to access elements of the string."
   ]
  },
  {
   "cell_type": "code",
   "execution_count": 12,
   "metadata": {},
   "outputs": [
    {
     "name": "stdout",
     "output_type": "stream",
     "text": [
      "e\n"
     ]
    }
   ],
   "source": [
    "#Example\n",
    "#Get the character at position 1 (remember that the first character has the position 0):\n",
    "a = \"Hello, World!\"\n",
    "print(a[1])"
   ]
  },
  {
   "cell_type": "code",
   "execution_count": 14,
   "metadata": {},
   "outputs": [
    {
     "name": "stdout",
     "output_type": "stream",
     "text": [
      "llo\n"
     ]
    }
   ],
   "source": [
    "#Substring. Get the characters from position 2 to position 5 (not included):\n",
    "b = \"Hello, World!\"\n",
    "print(b[2:5])"
   ]
  },
  {
   "cell_type": "code",
   "execution_count": 16,
   "metadata": {},
   "outputs": [
    {
     "name": "stdout",
     "output_type": "stream",
     "text": [
      "Hello, World!\n"
     ]
    }
   ],
   "source": [
    "#The strip() method removes any whitespace from the beginning or the end:\n",
    "a = \" Hello, World! \"\n",
    "print(a.strip()) # returns \"Hello, World!\" "
   ]
  },
  {
   "cell_type": "code",
   "execution_count": 18,
   "metadata": {},
   "outputs": [
    {
     "name": "stdout",
     "output_type": "stream",
     "text": [
      "13\n"
     ]
    }
   ],
   "source": [
    "#The len() method returns the length of a string:\n",
    "a = \"Hello, World!\"\n",
    "print(len(a))"
   ]
  },
  {
   "cell_type": "code",
   "execution_count": 20,
   "metadata": {},
   "outputs": [
    {
     "name": "stdout",
     "output_type": "stream",
     "text": [
      "hello, world!\n"
     ]
    }
   ],
   "source": [
    "#The lower() method returns the string in lower case:\n",
    "a = \"Hello, World!\"\n",
    "print(a.lower())"
   ]
  },
  {
   "cell_type": "code",
   "execution_count": 22,
   "metadata": {},
   "outputs": [
    {
     "name": "stdout",
     "output_type": "stream",
     "text": [
      "HELLO, WORLD!\n"
     ]
    }
   ],
   "source": [
    "#The upper() method returns the string in upper case:\n",
    "a = \"Hello, World!\"\n",
    "print(a.upper())"
   ]
  },
  {
   "cell_type": "code",
   "execution_count": 24,
   "metadata": {},
   "outputs": [
    {
     "name": "stdout",
     "output_type": "stream",
     "text": [
      "Jello, World!\n"
     ]
    }
   ],
   "source": [
    "#The replace() method replaces a string with another string:\n",
    "a = \"Hello, World!\"\n",
    "print(a.replace(\"H\", \"J\"))"
   ]
  },
  {
   "cell_type": "code",
   "execution_count": 26,
   "metadata": {},
   "outputs": [
    {
     "name": "stdout",
     "output_type": "stream",
     "text": [
      "['Hello', ' World!']\n"
     ]
    }
   ],
   "source": [
    "#The split() method splits the string into substrings if it finds instances of the separator:\n",
    "a = \"Hello, World!\"\n",
    "print(a.split(\",\")) # returns ['Hello', ' World!'] "
   ]
  },
  {
   "cell_type": "markdown",
   "metadata": {},
   "source": [
    "Command-line String Input\n",
    "\n",
    "Python allows for command line input.\n",
    "\n",
    "That means we are able to ask the user for input.\n",
    "\n",
    "The following example asks for the user's name, then, by using the input() method, the program prints the name to the screen:"
   ]
  },
  {
   "cell_type": "code",
   "execution_count": 28,
   "metadata": {},
   "outputs": [
    {
     "name": "stdout",
     "output_type": "stream",
     "text": [
      "Enter your name:\n",
      "Phani\n",
      "Hello,  Phani\n"
     ]
    }
   ],
   "source": [
    "print(\"Enter your name:\")\n",
    "x = input()\n",
    "print(\"Hello, \", x)\n"
   ]
  },
  {
   "cell_type": "markdown",
   "metadata": {},
   "source": [
    "# Python Collections \n",
    "\n",
    "There are four collection data types in the Python programming language:\n",
    "\n",
    "   1. List is a collection which is ordered and changeable. Allows duplicate members.\n",
    "   2. Tuple is a collection which is ordered and unchangeable. Allows duplicate members.\n",
    "   3. Set is a collection which is unordered and unindexed. No duplicate members.\n",
    "   4. Dictionary is a collection which is unordered, changeable and indexed. No duplicate members.\n",
    "\n",
    "When choosing a collection type, it is useful to understand the properties of that type. Choosing the right type for a particular data set could mean retention of meaning, and, it could mean an increase in efficiency or security.\n",
    "\n",
    "# List\n",
    "\n",
    "A list is a collection which is ordered and changeable. In Python lists are written with square brackets.\n",
    "Lists are mutable in nature."
   ]
  },
  {
   "cell_type": "code",
   "execution_count": 41,
   "metadata": {},
   "outputs": [
    {
     "name": "stdout",
     "output_type": "stream",
     "text": [
      "[]\n",
      "[1, 2, 3, 4, 5]\n",
      "['India', 'Tiger', 'Eagle']\n",
      "[1, 'Hello', 5, 'Good Morning']\n"
     ]
    }
   ],
   "source": [
    "# List Creation\n",
    "Empty_List = []                                     # creating an empty list\n",
    "Integer_List = [1, 2, 3, 4, 5]                      # creating an integer list \n",
    "Character_List = [\"India\", \"Tiger\", \"Eagle\"]        # creating a character list\n",
    "Mixed_List = [1, \"Hello\", 5, \"Good Morning\"]        # creating a mixed list\n",
    "print(Empty_List)\n",
    "print(Integer_List)\n",
    "print(Character_List)\n",
    "print(Mixed_List)"
   ]
  },
  {
   "cell_type": "markdown",
   "metadata": {},
   "source": [
    "# Accessing elements of a list\n",
    "Fruit_List = [\"apple\", \"banana\", \"cherry\"]\n",
    "print(Fruit_List[1])                     # prints element at the 2nd position of the list \n",
    "print(Fruit_List[-1])                    # prints element at the last position of the list"
   ]
  },
  {
   "cell_type": "code",
   "execution_count": 42,
   "metadata": {},
   "outputs": [
    {
     "name": "stdout",
     "output_type": "stream",
     "text": [
      "['E', 'F', 'G', 'H']\n",
      "['A', 'B', 'C', 'D', 'E']\n",
      "['D', 'E', 'F', 'G', 'H', 'I', 'J', 'K', 'L']\n",
      "['A', 'B', 'C', 'D', 'E', 'F', 'G', 'H', 'I', 'J', 'K', 'L']\n"
     ]
    }
   ],
   "source": [
    "# Accessing a range of elements from the list\n",
    "List = [\"A\", \"B\", \"C\", \"D\", \"E\", \"F\", \"G\", \"H\", \"I\", \"J\", \"K\", \"L\"]\n",
    "print(List[4:8])                    # prints elements from 5th to 8th\n",
    "print(List[:-7])                    # prints elements from beginning to -7 from the end \n",
    "print(List[3:])                     # prints elements from 4th to end\n",
    "print(List[:])                      # prints elements from beginning to end"
   ]
  },
  {
   "cell_type": "code",
   "execution_count": 4,
   "metadata": {},
   "outputs": [
    {
     "name": "stdout",
     "output_type": "stream",
     "text": [
      "['Date', 'Banana', 'Apricot', 'Coconut', 'Mango', 'Jackfruit', 'Grape']\n"
     ]
    }
   ],
   "source": [
    "#Changing elements of a list\n",
    "Fruit_List = [\"Apple\", \"Banana\", \"Cherry\", \"Jackfruit\", \"Grape\"]\n",
    "Fruit_List[0] = \"Date\"                                 # convert the 1st element of the list\n",
    "Fruit_List[2:3] = [\"Apricot\", \"Coconut\", \"Mango\"]      # convert the 3rd, 4th and 5th elements of the list\n",
    "print(Fruit_List)"
   ]
  },
  {
   "cell_type": "code",
   "execution_count": 45,
   "metadata": {},
   "outputs": [
    {
     "name": "stdout",
     "output_type": "stream",
     "text": [
      "Apple\n",
      "Banana\n",
      "Cherry\n",
      "Jackfruit\n",
      "Grape\n"
     ]
    }
   ],
   "source": [
    "# Loop through a list\n",
    "Fruit_List = [\"Apple\", \"Banana\", \"Cherry\", \"Jackfruit\", \"Grape\"]\n",
    "for x in Fruit_List:\n",
    "    print(x)"
   ]
  },
  {
   "cell_type": "code",
   "execution_count": 46,
   "metadata": {},
   "outputs": [
    {
     "name": "stdout",
     "output_type": "stream",
     "text": [
      "13\n",
      "170\n",
      "0\n"
     ]
    }
   ],
   "source": [
    "#Calculating the length of the list, maximum and minimum values from the elements\n",
    "Batsman_Score = [100, 55, 68, 74, 0, 46, 50, 98, 170, 11, 121, 85, 95]\n",
    "print(len(Batsman_Score))                         # prints the length of the list\n",
    "print(max(Batsman_Score))                         # prints the maximum element of the list\n",
    "print(min(Batsman_Score))                         # prints the minimum element of the list"
   ]
  },
  {
   "cell_type": "code",
   "execution_count": 47,
   "metadata": {},
   "outputs": [
    {
     "name": "stdout",
     "output_type": "stream",
     "text": [
      "['Apple', 'Banana', 'Cherry', 'Jackfruit', 'Grape', 'Orange']\n"
     ]
    }
   ],
   "source": [
    "# Adding items to a list at the end\n",
    "Fruit_List = [\"Apple\", \"Banana\", \"Cherry\", \"Jackfruit\", \"Grape\"]\n",
    "Fruit_List.append(\"Orange\")\n",
    "print(Fruit_List)"
   ]
  },
  {
   "cell_type": "code",
   "execution_count": 48,
   "metadata": {},
   "outputs": [
    {
     "name": "stdout",
     "output_type": "stream",
     "text": [
      "['Apple', 'Banana', 'Coconut', 'Cherry', 'Jackfruit', 'Grape']\n"
     ]
    }
   ],
   "source": [
    "# Adding itmes to a list at a speicific position\n",
    "Fruit_List = [\"Apple\", \"Banana\", \"Cherry\", \"Jackfruit\", \"Grape\"]\n",
    "Fruit_List.insert(2, \"Coconut\")\n",
    "print(Fruit_List)"
   ]
  },
  {
   "cell_type": "code",
   "execution_count": 49,
   "metadata": {},
   "outputs": [
    {
     "name": "stdout",
     "output_type": "stream",
     "text": [
      "['Apple', 'Cherry', 'Jackfruit', 'Grape']\n"
     ]
    }
   ],
   "source": [
    "# Removing an item from a list by item name\n",
    "Fruit_List = [\"Apple\", \"Banana\", \"Cherry\", \"Jackfruit\", \"Grape\"]\n",
    "Fruit_List.remove(\"Banana\")\n",
    "print(Fruit_List)"
   ]
  },
  {
   "cell_type": "code",
   "execution_count": 50,
   "metadata": {},
   "outputs": [
    {
     "name": "stdout",
     "output_type": "stream",
     "text": [
      "['Apple', 'Banana', 'Cherry', 'Jackfruit']\n"
     ]
    }
   ],
   "source": [
    "# Removing an item from the end of the list\n",
    "Fruit_List = [\"Apple\", \"Banana\", \"Cherry\", \"Jackfruit\", \"Grape\"]\n",
    "Fruit_List.pop()\n",
    "print(Fruit_List)"
   ]
  },
  {
   "cell_type": "code",
   "execution_count": 51,
   "metadata": {},
   "outputs": [
    {
     "name": "stdout",
     "output_type": "stream",
     "text": [
      "['Banana', 'Cherry', 'Jackfruit', 'Grape']\n"
     ]
    }
   ],
   "source": [
    "# Removing an item from a specific position\n",
    "Fruit_List = [\"Apple\", \"Banana\", \"Cherry\", \"Jackfruit\", \"Grape\"]\n",
    "Fruit_List.pop(0)\n",
    "print(Fruit_List)"
   ]
  },
  {
   "cell_type": "code",
   "execution_count": 52,
   "metadata": {},
   "outputs": [
    {
     "name": "stdout",
     "output_type": "stream",
     "text": [
      "['Banana', 'Cherry', 'Jackfruit', 'Grape']\n"
     ]
    }
   ],
   "source": [
    "# Removing an item from a specific position\n",
    "Fruit_List = [\"Apple\", \"Banana\", \"Cherry\", \"Jackfruit\", \"Grape\"]\n",
    "del Fruit_List[0]\n",
    "print(Fruit_List)"
   ]
  },
  {
   "cell_type": "code",
   "execution_count": 54,
   "metadata": {},
   "outputs": [
    {
     "ename": "NameError",
     "evalue": "name 'Marvel_Avengers' is not defined",
     "output_type": "error",
     "traceback": [
      "\u001b[1;31m---------------------------------------------------------------------------\u001b[0m",
      "\u001b[1;31mNameError\u001b[0m                                 Traceback (most recent call last)",
      "\u001b[1;32m<ipython-input-54-4a48e4823816>\u001b[0m in \u001b[0;36m<module>\u001b[1;34m\u001b[0m\n\u001b[0;32m      2\u001b[0m \u001b[0mMarvel_Avengers\u001b[0m \u001b[1;33m=\u001b[0m \u001b[1;33m[\u001b[0m\u001b[1;34m\"Hulk\"\u001b[0m\u001b[1;33m,\u001b[0m \u001b[1;34m\"Iron Man\"\u001b[0m\u001b[1;33m,\u001b[0m \u001b[1;34m\"Spider Man\"\u001b[0m\u001b[1;33m,\u001b[0m \u001b[1;34m\"Doctor Strange\"\u001b[0m\u001b[1;33m]\u001b[0m\u001b[1;33m\u001b[0m\u001b[1;33m\u001b[0m\u001b[0m\n\u001b[0;32m      3\u001b[0m \u001b[1;32mdel\u001b[0m \u001b[0mMarvel_Avengers\u001b[0m\u001b[1;33m\u001b[0m\u001b[1;33m\u001b[0m\u001b[0m\n\u001b[1;32m----> 4\u001b[1;33m \u001b[0mprint\u001b[0m\u001b[1;33m(\u001b[0m\u001b[0mMarvel_Avengers\u001b[0m\u001b[1;33m)\u001b[0m\u001b[1;33m\u001b[0m\u001b[1;33m\u001b[0m\u001b[0m\n\u001b[0m\u001b[0;32m      5\u001b[0m \u001b[1;31m# this will give an error as the list 'Marvel_Avengers' no longer exists\u001b[0m\u001b[1;33m\u001b[0m\u001b[1;33m\u001b[0m\u001b[1;33m\u001b[0m\u001b[0m\n",
      "\u001b[1;31mNameError\u001b[0m: name 'Marvel_Avengers' is not defined"
     ]
    }
   ],
   "source": [
    "# Deleting a list completely\n",
    "Marvel_Avengers = [\"Hulk\", \"Iron Man\", \"Spider Man\", \"Doctor Strange\"]\n",
    "del Marvel_Avengers\n",
    "print(Marvel_Avengers)\n",
    "# this will give an error as the list 'Marvel_Avengers' no longer exists"
   ]
  },
  {
   "cell_type": "code",
   "execution_count": 55,
   "metadata": {},
   "outputs": [
    {
     "name": "stdout",
     "output_type": "stream",
     "text": [
      "[]\n"
     ]
    }
   ],
   "source": [
    "# Clearing the list\n",
    "Marvel_Avengers = [\"Hulk\", \"Iron Man\", \"Spider Man\", \"Doctor Strange\"]\n",
    "Marvel_Avengers.clear()\n",
    "print(Marvel_Avengers)"
   ]
  },
  {
   "cell_type": "code",
   "execution_count": 56,
   "metadata": {},
   "outputs": [
    {
     "name": "stdout",
     "output_type": "stream",
     "text": [
      "['Hulk', 'Iron Man', 'Spider Man', 'Doctor Strange']\n"
     ]
    }
   ],
   "source": [
    "# Creating a list with the list() constructor\n",
    "Marvel_Avengers = list((\"Hulk\", \"Iron Man\", \"Spider Man\", \"Doctor Strange\"))\n",
    "print(Marvel_Avengers)"
   ]
  },
  {
   "cell_type": "code",
   "execution_count": 57,
   "metadata": {},
   "outputs": [
    {
     "name": "stdout",
     "output_type": "stream",
     "text": [
      "['Lotus', 'Rose', 'Lily', 'Sunflower']\n"
     ]
    }
   ],
   "source": [
    "# Copying the list to a different name\n",
    "Flowers = [\"Lotus\", \"Rose\", \"Lily\", \"Sunflower\"]\n",
    "New_List = Flowers.copy()\n",
    "print(New_List)"
   ]
  },
  {
   "cell_type": "code",
   "execution_count": 58,
   "metadata": {},
   "outputs": [
    {
     "name": "stdout",
     "output_type": "stream",
     "text": [
      "2\n"
     ]
    }
   ],
   "source": [
    "# Counting the frequency of a specific element in a list\n",
    "Marvel_Avengers = [\"Hulk\", \"Iron Man\", \"Spider Man\", \"Doctor Strange\", \"Iron Man\"]\n",
    "print(Marvel_Avengers.count(\"Iron Man\"))"
   ]
  },
  {
   "cell_type": "code",
   "execution_count": 59,
   "metadata": {},
   "outputs": [
    {
     "name": "stdout",
     "output_type": "stream",
     "text": [
      "['India', 'Pakistan', 'Sri Lanka', 'Egypt', 'Kenya', 'Namibia', 'Zimbabwe']\n"
     ]
    }
   ],
   "source": [
    "# Appending two lists\n",
    "Countries = [\"India\", \"Pakistan\", \"Sri Lanka\"]\n",
    "African_Countries = [\"Egypt\", \"Kenya\", \"Namibia\", \"Zimbabwe\"]\n",
    "Countries.extend(African_Countries)\n",
    "print(Countries)"
   ]
  },
  {
   "cell_type": "code",
   "execution_count": 60,
   "metadata": {},
   "outputs": [
    {
     "name": "stdout",
     "output_type": "stream",
     "text": [
      "1\n"
     ]
    }
   ],
   "source": [
    "# Returning the position of the specified value\n",
    "# Index returns the first occurence of the value in the list (if the list contains multiple occurences of the value)\n",
    "Sports = [\"Cricket\", \"Football\", \"Hockey\", \"Basketball\"]\n",
    "print(Sports.index(\"Football\"))"
   ]
  },
  {
   "cell_type": "code",
   "execution_count": 61,
   "metadata": {},
   "outputs": [
    {
     "name": "stdout",
     "output_type": "stream",
     "text": [
      "['Aravind Adiga', 'Ruskin Bond', 'Willian Shakespeare', 'Satyajit Ray']\n"
     ]
    }
   ],
   "source": [
    "# Reversing the order of the elements in the list\n",
    "Authors = [\"Satyajit Ray\", \"Willian Shakespeare\", \"Ruskin Bond\", \"Aravind Adiga\"]\n",
    "Authors.reverse()\n",
    "print(Authors)"
   ]
  },
  {
   "cell_type": "code",
   "execution_count": 62,
   "metadata": {},
   "outputs": [
    {
     "name": "stdout",
     "output_type": "stream",
     "text": [
      "['Aravind Adiga', 'Ruskin Bond', 'Satyajit Ray', 'Willian Shakespeare']\n"
     ]
    }
   ],
   "source": [
    "# Sorting the items of the list in the ascending order\n",
    "Authors = [\"Satyajit Ray\", \"Willian Shakespeare\", \"Ruskin Bond\", \"Aravind Adiga\"]\n",
    "Authors.sort()\n",
    "print(Authors)"
   ]
  },
  {
   "cell_type": "code",
   "execution_count": 63,
   "metadata": {},
   "outputs": [
    {
     "name": "stdout",
     "output_type": "stream",
     "text": [
      "['Willian Shakespeare', 'Satyajit Ray', 'Ruskin Bond', 'Aravind Adiga']\n"
     ]
    }
   ],
   "source": [
    "# Sorting the items of the list in the descending order\n",
    "Authors = [\"Satyajit Ray\", \"Willian Shakespeare\", \"Ruskin Bond\", \"Aravind Adiga\"]\n",
    "Authors.sort(reverse = True)\n",
    "print(Authors) "
   ]
  },
  {
   "cell_type": "code",
   "execution_count": 64,
   "metadata": {},
   "outputs": [
    {
     "name": "stdout",
     "output_type": "stream",
     "text": [
      "['Mitsubishi', 'Ferari', 'Ford', 'Audi', 'BMW']\n"
     ]
    }
   ],
   "source": [
    "# Sorting the elements of the list using a certain function\n",
    "def func(x):\n",
    "    return len(x)\n",
    "\n",
    "Cars = [\"Ford\", \"BMW\", \"Ferari\", \"Mitsubishi\", \"Audi\"]\n",
    "Cars.sort(reverse = True, key = func)\n",
    "print(Cars)                         # prints the elements of the list in the descreasing order of character length "
   ]
  },
  {
   "cell_type": "code",
   "execution_count": 65,
   "metadata": {},
   "outputs": [
    {
     "name": "stdout",
     "output_type": "stream",
     "text": [
      "True\n",
      "False\n"
     ]
    }
   ],
   "source": [
    "# Membership in list\n",
    "List = [1, 2, 3, 4, 5, 6, 7, 8, 9, 10]\n",
    "print(4 in List)                    # checks if 4 is an element of the list or not\n",
    "print(11 in List)                   # checks if 11 is an element of the list or notl"
   ]
  },
  {
   "cell_type": "code",
   "execution_count": 66,
   "metadata": {},
   "outputs": [
    {
     "name": "stdout",
     "output_type": "stream",
     "text": [
      "['Happy', [2, 0, 1, 5]]\n"
     ]
    }
   ],
   "source": [
    "# Nested List\n",
    "# Creating a nested List\n",
    "Nested_List = [\"Happy\", [2, 0, 1, 5]]\n",
    "print(Nested_List)"
   ]
  },
  {
   "cell_type": "code",
   "execution_count": 67,
   "metadata": {},
   "outputs": [
    {
     "name": "stdout",
     "output_type": "stream",
     "text": [
      "p\n",
      "1\n"
     ]
    }
   ],
   "source": [
    "# Accessing elements of a nested list\n",
    "Nested_List = [\"Happy\", [2, 0, 1, 5]]\n",
    "print(Nested_List[0][3])            # prints the 4th value of the 1st element\n",
    "print(Nested_List[1][2])            # prints the 3rd value of the 2nd element"
   ]
  },
  {
   "cell_type": "markdown",
   "metadata": {},
   "source": [
    "# Python has a set of built-in methods that you can use on lists.\n",
    "\n",
    "Methods and its Description.\n",
    "\n",
    "append() - Adds an element at the end of the list\n",
    "\n",
    "clear()- Removes all the elements from the list\n",
    "\n",
    "copy() - Returns a copy of the list\n",
    "\n",
    "count() - Returns the number of elements with the specified value\n",
    "\n",
    "extend() - Add the elements of a list (or any iterable), to the end of the current list\n",
    "\n",
    "index() - Returns the index of the first element with the specified value\n",
    "\n",
    "insert() - Adds an element at the specified position\n",
    "\n",
    "pop() - Removes the element at the specified position\n",
    "\n",
    "remove() - Removes the item with the specified value\n",
    "\n",
    "reverse() - Reverses the order of the list\n",
    "\n",
    "sort() - Sorts the list\n"
   ]
  },
  {
   "cell_type": "markdown",
   "metadata": {},
   "source": [
    "# Python - Tuple\n",
    "A tuple is a collection which is ordered and unchangeable.\n",
    "Tuples are written with round brackets.\n"
   ]
  },
  {
   "cell_type": "markdown",
   "metadata": {},
   "source": [
    "Advantages of tuple over list:\n",
    "1. Tuple is used for heterogenous (different) datatypes and list is for homogenous (similar) datatypes.\n",
    "2. Since tuple are immutable, iterating through tuple is faster than with list. So, there is a slight performance boost.\n",
    "3. Tuples that contain immutable elements can be used as key for a dictionary. With list, this is not possible.\n",
    "4. If we have data that doesn't change, implementing it as a tuple will guarantee that it remains write-protected."
   ]
  },
  {
   "cell_type": "markdown",
   "metadata": {},
   "source": [
    "Difference between tuple and list is that we cannot change the elements of a tuple once it is assigned whereas in a list, elements can be changed. The following functions do not work on tuples:\n",
    "1. Change tuple elements\n",
    "2. Add new elements to a tuple\n",
    "3. Remove the elements of a tuple"
   ]
  },
  {
   "cell_type": "code",
   "execution_count": 71,
   "metadata": {},
   "outputs": [
    {
     "name": "stdout",
     "output_type": "stream",
     "text": [
      "()\n",
      "(1, 2, 3)\n",
      "(1, 'Hello', 3.4)\n",
      "('Horse', [8, 4, 6], (1, 2, 3))\n"
     ]
    }
   ],
   "source": [
    "# Tuple Creation\n",
    "Empty_Tuple = ()                                  # creating an empty tuple\n",
    "Integer_Tuple = (1, 2, 3)                         # creating an integer tuple\n",
    "Mixed_Tuple = (1, \"Hello\", 3.4)                   # creating a mixed tuple\n",
    "Nested_Tuple = (\"Horse\", [8, 4, 6], (1, 2, 3))    # creating a nested tuple\n",
    "print(Empty_Tuple)\n",
    "print(Integer_Tuple)\n",
    "print(Mixed_Tuple)\n",
    "print(Nested_Tuple) "
   ]
  },
  {
   "cell_type": "code",
   "execution_count": 72,
   "metadata": {},
   "outputs": [
    {
     "name": "stdout",
     "output_type": "stream",
     "text": [
      "(3, 4.6, 'Duck')\n",
      "3\n",
      "4.6\n",
      "Duck\n"
     ]
    }
   ],
   "source": [
    "# Tuple packing and unpacking\n",
    "Tuple_Without_Parenthesis = 3, 4.6, \"Duck\"        # creating a tuple without parenthesis, also called tuple packing\n",
    "print(Tuple_Without_Parenthesis)\n",
    "a, b, c = Tuple_Without_Parenthesis               # tuple unpacking\n",
    "print(a)\n",
    "print(b)\n",
    "print(c)"
   ]
  },
  {
   "cell_type": "code",
   "execution_count": 73,
   "metadata": {},
   "outputs": [
    {
     "name": "stdout",
     "output_type": "stream",
     "text": [
      "<class 'tuple'>\n",
      "('Hello',)\n",
      "<class 'tuple'>\n",
      "('Hello',)\n"
     ]
    }
   ],
   "source": [
    "# Creating a tuple with only one element\n",
    "# Having one elemwnt within the parenthesis is not enough. We need a trailing comma to indicate that it is a tuple\n",
    "OneElement_Tuple = (\"Hello\",)\n",
    "OneElement_Tuple1 = \"Hello\",\n",
    "print(type(OneElement_Tuple))\n",
    "print(OneElement_Tuple)\n",
    "print(type(OneElement_Tuple1))\n",
    "print(OneElement_Tuple1)"
   ]
  },
  {
   "cell_type": "code",
   "execution_count": 74,
   "metadata": {},
   "outputs": [
    {
     "name": "stdout",
     "output_type": "stream",
     "text": [
      "('Apple', 'Banana', 'Coconut', 'Mango', 'Cherry')\n"
     ]
    }
   ],
   "source": [
    "# Tuple creation using tuple() constructor\n",
    "Fruits = (\"Apple\", \"Banana\", \"Coconut\", \"Mango\", \"Cherry\")       \n",
    "print(Fruits)"
   ]
  },
  {
   "cell_type": "code",
   "execution_count": 75,
   "metadata": {},
   "outputs": [
    {
     "name": "stdout",
     "output_type": "stream",
     "text": [
      "Banana\n",
      "Mango\n"
     ]
    }
   ],
   "source": [
    "# Accessing elements of a tuple\n",
    "Fruits = (\"Apple\", \"Banana\", \"Coconut\", \"Mango\", \"Cherry\")       \n",
    "print(Fruits[1])                                   # prints the second element of the tuple \n",
    "print(Fruits[-2])                                  # prints the second element from the last"
   ]
  },
  {
   "cell_type": "code",
   "execution_count": 76,
   "metadata": {},
   "outputs": [
    {
     "name": "stdout",
     "output_type": "stream",
     "text": [
      "Apple\n",
      "Banana\n",
      "Coconut\n",
      "Mango\n",
      "Cherry\n"
     ]
    }
   ],
   "source": [
    "# Loop through a Tuple\n",
    "Fruits = (\"Apple\", \"Banana\", \"Coconut\", \"Mango\", \"Cherry\")       \n",
    "for x in Fruits:\n",
    "    print(x)"
   ]
  },
  {
   "cell_type": "code",
   "execution_count": 77,
   "metadata": {},
   "outputs": [
    {
     "name": "stdout",
     "output_type": "stream",
     "text": [
      "5\n"
     ]
    }
   ],
   "source": [
    "# Calculating the length of a tuple\n",
    "Fruits = (\"Apple\", \"Banana\", \"Coconut\", \"Mango\", \"Cherry\")       \n",
    "print(len(Fruits))                                 # prints the count of the elements of the tuple"
   ]
  },
  {
   "cell_type": "code",
   "execution_count": 78,
   "metadata": {},
   "outputs": [
    {
     "name": "stdout",
     "output_type": "stream",
     "text": [
      "Yes, 'Cherry' is in the Fruits Tuple\n"
     ]
    }
   ],
   "source": [
    "# Checking if an element exists in the tuple\n",
    "Fruits = (\"Apple\", \"Banana\", \"Coconut\", \"Mango\", \"Cherry\")   \n",
    "if \"Cherry\" in Fruits:\n",
    "    print(\"Yes, 'Cherry' is in the Fruits Tuple\")"
   ]
  },
  {
   "cell_type": "code",
   "execution_count": 79,
   "metadata": {},
   "outputs": [
    {
     "name": "stdout",
     "output_type": "stream",
     "text": [
      "2\n"
     ]
    }
   ],
   "source": [
    "# Counting the frequency of a specific element in a tuple\n",
    "Marvel_Avengers = [\"Hulk\", \"Iron Man\", \"Spider Man\", \"Doctor Strange\", \"Iron Man\"]\n",
    "print(Marvel_Avengers.count(\"Iron Man\"))"
   ]
  },
  {
   "cell_type": "code",
   "execution_count": 80,
   "metadata": {},
   "outputs": [
    {
     "name": "stdout",
     "output_type": "stream",
     "text": [
      "1\n"
     ]
    }
   ],
   "source": [
    "# Returning the position of the specified value\n",
    "# Index returns the first occurence of the value in the tuple (if the tuple contains multiple occurences of the value)\n",
    "Sports = [\"Cricket\", \"Football\", \"Hockey\", \"Basketball\"]\n",
    "print(Sports.index(\"Football\"))"
   ]
  },
  {
   "cell_type": "markdown",
   "metadata": {},
   "source": [
    "# Python - Dictionaries\n",
    "It is a collection which is unordered, changeable and indexed.\n",
    "In python, dictionaries are written with curly brackets, and they have keys and values.\n",
    "Keys of a dictionary must be unique and immutable data type such as strings, integers and tuples but the key-values can be repeated and be of any type."
   ]
  },
  {
   "cell_type": "code",
   "execution_count": 81,
   "metadata": {},
   "outputs": [
    {
     "name": "stdout",
     "output_type": "stream",
     "text": [
      "{'Brand': 'Ford', 'Model': 'Mustang', 'Year': 1964}\n"
     ]
    }
   ],
   "source": [
    "# Dictionary Creation\n",
    "This_Dict = {\n",
    "    \"Brand\" : \"Ford\",\n",
    "    \"Model\" : \"Mustang\",\n",
    "    \"Year\" : 1964\n",
    "}\n",
    "print(This_Dict)"
   ]
  },
  {
   "cell_type": "code",
   "execution_count": 82,
   "metadata": {},
   "outputs": [
    {
     "name": "stdout",
     "output_type": "stream",
     "text": [
      "{'Brand': 'Ford', 'Model': 'Mustang', 'Year': 1964}\n"
     ]
    }
   ],
   "source": [
    "# Dictionary creation using dict() constructor\n",
    "This_Dict = dict(Brand = \"Ford\", Model = \"Mustang\", Year = 1964)\n",
    "print(This_Dict)"
   ]
  },
  {
   "cell_type": "code",
   "execution_count": 83,
   "metadata": {},
   "outputs": [
    {
     "name": "stdout",
     "output_type": "stream",
     "text": [
      "1964\n",
      "Ford\n"
     ]
    }
   ],
   "source": [
    "# Accessing elements in a dictionary\n",
    "This_Dict = {\n",
    "    \"Brand\" : \"Ford\",\n",
    "    \"Model\" : \"Mustang\",\n",
    "    \"Year\" : 1964\n",
    "}\n",
    "print(This_Dict[\"Year\"])\n",
    "print(This_Dict.get(\"Brand\"))"
   ]
  },
  {
   "cell_type": "code",
   "execution_count": 84,
   "metadata": {},
   "outputs": [
    {
     "name": "stdout",
     "output_type": "stream",
     "text": [
      "{'Brand': 'Ford', 'Model': 'Mustang', 'Year': 2018}\n"
     ]
    }
   ],
   "source": [
    "# Changing the value of a specific element by referring to its key name\n",
    "This_Dict = {\n",
    "    \"Brand\" : \"Ford\",\n",
    "    \"Model\" : \"Mustang\",\n",
    "    \"Year\" : 1964\n",
    "}\n",
    "This_Dict[\"Year\"] = 2018\n",
    "print(This_Dict)"
   ]
  },
  {
   "cell_type": "code",
   "execution_count": 1,
   "metadata": {},
   "outputs": [
    {
     "name": "stdout",
     "output_type": "stream",
     "text": [
      "Brand\n",
      "Model\n",
      "Year\n",
      "Ford\n",
      "Mustang\n",
      "1964\n",
      "Ford\n",
      "Mustang\n",
      "1964\n",
      "Brand Ford\n",
      "Model Mustang\n",
      "Year 1964\n"
     ]
    }
   ],
   "source": [
    "# Looping through a dictionary\n",
    "# while looping through a dictionary, the return value are the keys of the dictionary, but there are methods to return the values as well\n",
    "This_Dict = {\n",
    "    \"Brand\" : \"Ford\",\n",
    "    \"Model\" : \"Mustang\",\n",
    "    \"Year\" : 1964\n",
    "}\n",
    "\n",
    "# Loop for printing keys\n",
    "for x in This_Dict:\n",
    "    print(x)\n",
    "\n",
    "# Loop for printing values\n",
    "for x in This_Dict:\n",
    "    print(This_Dict[x])\n",
    "for x in This_Dict.values():\n",
    "    print(x)\n",
    "\n",
    "# Loop for printing for keys and values\n",
    "for x, y in This_Dict.items():\n",
    "    print(x, y)"
   ]
  },
  {
   "cell_type": "code",
   "execution_count": 86,
   "metadata": {},
   "outputs": [
    {
     "name": "stdout",
     "output_type": "stream",
     "text": [
      "Yes, This key is present in this dictionary\n"
     ]
    }
   ],
   "source": [
    "# Checking for the specified key in the dictionary\n",
    "This_Dict = {\n",
    "    \"Brand\" : \"Ford\",\n",
    "    \"Model\" : \"Mustang\",\n",
    "    \"Year\" : 1964\n",
    "}\n",
    "\n",
    "if \"Year\" in This_Dict:\n",
    "    print(\"Yes, This key is present in this dictionary\")"
   ]
  },
  {
   "cell_type": "code",
   "execution_count": 87,
   "metadata": {},
   "outputs": [
    {
     "name": "stdout",
     "output_type": "stream",
     "text": [
      "3\n"
     ]
    }
   ],
   "source": [
    "# Checking the length of the dictionary\n",
    "This_Dict = {\n",
    "    \"Brand\" : \"Ford\",\n",
    "    \"Model\" : \"Mustang\",\n",
    "    \"Year\" : 1964\n",
    "}\n",
    "print(len(This_Dict))"
   ]
  },
  {
   "cell_type": "code",
   "execution_count": 88,
   "metadata": {},
   "outputs": [
    {
     "name": "stdout",
     "output_type": "stream",
     "text": [
      "{'Brand': 'Ford', 'Model': 'Mustang', 'Year': 1964, 'Color': 'Red'}\n",
      "{'Brand': 'Ford', 'Model': 'Mustang', 'Year': 1964, 'Color': 'Red', 'Tyre': 'Tubeless'}\n"
     ]
    }
   ],
   "source": [
    "# Adding items to a dictionary\n",
    "This_Dict = {\n",
    "    \"Brand\" : \"Ford\",\n",
    "    \"Model\" : \"Mustang\",\n",
    "    \"Year\" : 1964\n",
    "}\n",
    "This_Dict[\"Color\"] = \"Red\"\n",
    "print(This_Dict)\n",
    "This_Dict.update({\"Tyre\" : \"Tubeless\"})\n",
    "print(This_Dict)"
   ]
  },
  {
   "cell_type": "code",
   "execution_count": 89,
   "metadata": {},
   "outputs": [
    {
     "name": "stdout",
     "output_type": "stream",
     "text": [
      "{'Brand': 'Ford', 'Year': 1964, 'Color': 'Red', 'Tyre': 'Tubeless'}\n",
      "{'Brand': 'Ford', 'Year': 1964, 'Color': 'Red'}\n",
      "{'Year': 1964, 'Color': 'Red'}\n"
     ]
    }
   ],
   "source": [
    "# Removing items from a dictionary\n",
    "This_Dict = {\n",
    "    \"Brand\" : \"Ford\",\n",
    "    \"Model\" : \"Mustang\",\n",
    "    \"Year\" : 1964,\n",
    "    \"Color\" : \"Red\",\n",
    "    \"Tyre\" : \"Tubeless\"\n",
    "}\n",
    "This_Dict.pop(\"Model\")                                 # removing a specific key - value pair\n",
    "print(This_Dict)\n",
    "This_Dict.popitem()                                    # removing the last element from the dictionary\n",
    "print(This_Dict)\n",
    "del This_Dict[\"Brand\"]                                 # removing the element with the specified key name\n",
    "print(This_Dict)"
   ]
  },
  {
   "cell_type": "code",
   "execution_count": 90,
   "metadata": {},
   "outputs": [
    {
     "ename": "NameError",
     "evalue": "name 'This_Dict' is not defined",
     "output_type": "error",
     "traceback": [
      "\u001b[1;31m---------------------------------------------------------------------------\u001b[0m",
      "\u001b[1;31mNameError\u001b[0m                                 Traceback (most recent call last)",
      "\u001b[1;32m<ipython-input-90-e1a40df0fa4e>\u001b[0m in \u001b[0;36m<module>\u001b[1;34m\u001b[0m\n\u001b[0;32m      6\u001b[0m }\n\u001b[0;32m      7\u001b[0m \u001b[1;32mdel\u001b[0m \u001b[0mThis_Dict\u001b[0m\u001b[1;33m\u001b[0m\u001b[1;33m\u001b[0m\u001b[0m\n\u001b[1;32m----> 8\u001b[1;33m \u001b[0mprint\u001b[0m\u001b[1;33m(\u001b[0m\u001b[0mThis_Dict\u001b[0m\u001b[1;33m)\u001b[0m\u001b[1;33m\u001b[0m\u001b[1;33m\u001b[0m\u001b[0m\n\u001b[0m",
      "\u001b[1;31mNameError\u001b[0m: name 'This_Dict' is not defined"
     ]
    }
   ],
   "source": [
    "# Deleting a dictionary completely\n",
    "This_Dict = {\n",
    "    \"Brand\" : \"Ford\",\n",
    "    \"Model\" : \"Mustang\",\n",
    "    \"Year\" : 1964\n",
    "}\n",
    "del This_Dict\n",
    "print(This_Dict)"
   ]
  },
  {
   "cell_type": "code",
   "execution_count": 91,
   "metadata": {},
   "outputs": [
    {
     "name": "stdout",
     "output_type": "stream",
     "text": [
      "{}\n"
     ]
    }
   ],
   "source": [
    "# Clearing a dictionary\n",
    "This_Dict = {\n",
    "    \"Brand\" : \"Ford\",\n",
    "    \"Model\" : \"Mustang\",\n",
    "    \"Year\" : 1964\n",
    "}\n",
    "This_Dict.clear()\n",
    "print(This_Dict)"
   ]
  },
  {
   "cell_type": "code",
   "execution_count": 92,
   "metadata": {},
   "outputs": [
    {
     "name": "stdout",
     "output_type": "stream",
     "text": [
      "{'Brand': 'Ford', 'Model': 'Mustang', 'Year': 1964}\n"
     ]
    }
   ],
   "source": [
    "# Copying a dictionary\n",
    "This_Dict = {\n",
    "    \"Brand\" : \"Ford\",\n",
    "    \"Model\" : \"Mustang\",\n",
    "    \"Year\" : 1964\n",
    "}\n",
    "\n",
    "X = This_Dict.copy()\n",
    "print(X)"
   ]
  },
  {
   "cell_type": "code",
   "execution_count": 93,
   "metadata": {},
   "outputs": [
    {
     "name": "stdout",
     "output_type": "stream",
     "text": [
      "{'key1': 1, 'key2': 1, 'key3': 1, 'key4': 1, 'key5': 1}\n"
     ]
    }
   ],
   "source": [
    "# fromkeys() method\n",
    "# this method returns a dictionary with the specified keys and values\n",
    "# if the value is not specified for the keys, then the default value is \"NONE\"\n",
    "X = ('key1', 'key2', 'key3', 'key4', 'key5')\n",
    "Y = 1\n",
    "This_Dict = dict.fromkeys(X, Y)\n",
    "print(This_Dict)"
   ]
  },
  {
   "cell_type": "code",
   "execution_count": 94,
   "metadata": {},
   "outputs": [
    {
     "name": "stdout",
     "output_type": "stream",
     "text": [
      "dict_keys(['Brand', 'Model', 'Year'])\n",
      "dict_keys(['Brand', 'Model', 'Year', 'Color'])\n"
     ]
    }
   ],
   "source": [
    "# Printing the keys of the dictionary using keys() method\n",
    "# It returns a view object which contains the keys of the dictionary as a list\n",
    "Car = {\n",
    "    \"Brand\" : \"Ford\",\n",
    "    \"Model\" : \"Mustang\",\n",
    "    \"Year\" : 1964\n",
    "}\n",
    "print(Car.keys())\n",
    "\n",
    "# The view object will reflect any changes done to the dictionary\n",
    "Car = {\n",
    "    \"Brand\" : \"Ford\",\n",
    "    \"Model\" : \"Mustang\",\n",
    "    \"Year\" : 1964\n",
    "}\n",
    "Car[\"Color\"] = \"White\"\n",
    "print(Car.keys())"
   ]
  },
  {
   "cell_type": "code",
   "execution_count": 95,
   "metadata": {},
   "outputs": [
    {
     "name": "stdout",
     "output_type": "stream",
     "text": [
      "dict_values(['Ford', 'Mustang', 1964])\n",
      "dict_values(['Ford', 'Mustang', 1964, 'White'])\n"
     ]
    }
   ],
   "source": [
    "# Printing the values of the dictionary using values() method\n",
    "# It returns a view object which contains the values of the dictionary as a list\n",
    "Car = {\n",
    "    \"Brand\" : \"Ford\",\n",
    "    \"Model\" : \"Mustang\",\n",
    "    \"Year\" : 1964\n",
    "}\n",
    "print(Car.values())\n",
    "\n",
    "# The view object will reflect any changes done to the dictionary\n",
    "Car = {\n",
    "    \"Brand\" : \"Ford\",\n",
    "    \"Model\" : \"Mustang\",\n",
    "    \"Year\" : 1964\n",
    "}\n",
    "Car[\"Color\"] = \"White\"\n",
    "print(Car.values())"
   ]
  },
  {
   "cell_type": "code",
   "execution_count": 96,
   "metadata": {},
   "outputs": [
    {
     "name": "stdout",
     "output_type": "stream",
     "text": [
      "dict_items([('Brand', 'Ford'), ('Model', 'Mustang'), ('Year', 1964)])\n",
      "dict_items([('Brand', 'Ford'), ('Model', 'Mustang'), ('Year', 1964), ('Color', 'White')])\n"
     ]
    }
   ],
   "source": [
    "# Printing the key-value pairs of the dictionary using items() method\n",
    "# It returns a view object which contains the key-value pairs of the dictionary as tuples in a list\n",
    "Car = {\n",
    "    \"Brand\" : \"Ford\",\n",
    "    \"Model\" : \"Mustang\",\n",
    "    \"Year\" : 1964\n",
    "}\n",
    "print(Car.items())\n",
    "\n",
    "# The view object will reflect any changes done to the dictionary\n",
    "Car = {\n",
    "    \"Brand\" : \"Ford\",\n",
    "    \"Model\" : \"Mustang\",\n",
    "    \"Year\" : 1964\n",
    "}\n",
    "Car[\"Color\"] = \"White\"\n",
    "print(Car.items())"
   ]
  },
  {
   "cell_type": "code",
   "execution_count": 97,
   "metadata": {},
   "outputs": [
    {
     "name": "stdout",
     "output_type": "stream",
     "text": [
      "Mustang\n",
      "Red\n",
      "None\n"
     ]
    }
   ],
   "source": [
    "# setdefault() method\n",
    "# it returns the value of the element with the specified key\n",
    "Car = {\n",
    "    \"Brand\" : \"Ford\",\n",
    "    \"Model\" : \"Mustang\",\n",
    "    \"Year\" : 1964\n",
    "}\n",
    "print(Car.setdefault(\"Model\", \"Bronco\"))\n",
    "\n",
    "# if the key does not exist, the value becomes the key's value\n",
    "Car = {\n",
    "    \"Brand\" : \"Ford\",\n",
    "    \"Model\" : \"Mustang\",\n",
    "    \"Year\" : 1964\n",
    "}\n",
    "print(Car.setdefault(\"Color\", \"Red\"))\n",
    "\n",
    "# the default value is NONE\n",
    "Car = {\n",
    "    \"Brand\" : \"Ford\",\n",
    "    \"Model\" : \"Mustang\",\n",
    "    \"Year\" : 1964\n",
    "}\n",
    "print(Car.setdefault(\"Color\"))"
   ]
  },
  {
   "cell_type": "markdown",
   "metadata": {},
   "source": [
    "# Python - Sets\n",
    "A set is a collection which is unordered and unindexed.\n",
    "Sets are unorderd, so the items will appear in a random order.\n",
    "In Python, sets are written with curly brackets."
   ]
  },
  {
   "cell_type": "markdown",
   "metadata": {},
   "source": [
    "Properties of Sets:\n",
    "1. We cannot access elements in a set by referring to an index, since sets are unordered the elements have no index.\n",
    "2. Once a set is created, we cannot change the elements, but we can add new elements."
   ]
  },
  {
   "cell_type": "code",
   "execution_count": 3,
   "metadata": {},
   "outputs": [
    {
     "name": "stdout",
     "output_type": "stream",
     "text": [
      "{'Orange', 'Green', 'Red', 'Violet', 'Blue', 'Black'}\n"
     ]
    },
    {
     "data": {
      "text/plain": [
       "set"
      ]
     },
     "execution_count": 3,
     "metadata": {},
     "output_type": "execute_result"
    }
   ],
   "source": [
    "#set creation using {} braces\n",
    "Colour = {\"Black\", \"Blue\", \"Red\", \"Green\", \"Orange\", \"Violet\"}\n",
    "print(Colour)\n",
    "type(Colour)"
   ]
  },
  {
   "cell_type": "code",
   "execution_count": 99,
   "metadata": {},
   "outputs": [
    {
     "name": "stdout",
     "output_type": "stream",
     "text": [
      "{'Violet', 'Red', 'Black', 'Orange', 'Blue', 'Green'}\n"
     ]
    }
   ],
   "source": [
    "# Set creation using set() constructor\n",
    "Colour = set((\"Black\", \"Blue\", \"Red\", \"Green\", \"Orange\", \"Violet\"))\n",
    "print(Colour)"
   ]
  },
  {
   "cell_type": "code",
   "execution_count": 100,
   "metadata": {},
   "outputs": [
    {
     "name": "stdout",
     "output_type": "stream",
     "text": [
      "Violet\n",
      "Red\n",
      "Black\n",
      "Orange\n",
      "Blue\n",
      "Green\n"
     ]
    }
   ],
   "source": [
    "# Looping through a set\n",
    "Colour = {\"Black\", \"Blue\", \"Red\", \"Green\", \"Orange\", \"Violet\"}\n",
    "for x in Colour:\n",
    "    print(x)"
   ]
  },
  {
   "cell_type": "code",
   "execution_count": 101,
   "metadata": {},
   "outputs": [
    {
     "name": "stdout",
     "output_type": "stream",
     "text": [
      "True\n",
      "False\n"
     ]
    }
   ],
   "source": [
    "# Checking the presence of an element in a set\n",
    "Colour = {\"Black\", \"Blue\", \"Red\", \"Green\", \"Orange\", \"Violet\"}\n",
    "print(\"Orange\" in Colour)                              \n",
    "print(\"Sky Blue\" in Colour)"
   ]
  },
  {
   "cell_type": "code",
   "execution_count": 102,
   "metadata": {},
   "outputs": [
    {
     "name": "stdout",
     "output_type": "stream",
     "text": [
      "{'Batman', 'Spiderman', 'Aquaman', 'Superman'}\n",
      "{'Ironman', 'Batman', 'Aquaman', 'Wolverine', 'Spiderman', 'Flash', 'Green Arrow', 'Superman'}\n"
     ]
    }
   ],
   "source": [
    "# Adding one element / multiple elements to a set\n",
    "Super_Heroes = {\"Superman\", \"Batman\", \"Spiderman\"}\n",
    "Super_Heroes.add(\"Aquaman\")                                                  # adding one element to the set\n",
    "print(Super_Heroes)\n",
    "Super_Heroes.update([\"Wolverine\", \"Green Arrow\", \"Flash\", \"Ironman\"])        # adding multiple elements to the set\n",
    "print(Super_Heroes)"
   ]
  },
  {
   "cell_type": "code",
   "execution_count": 103,
   "metadata": {},
   "outputs": [
    {
     "name": "stdout",
     "output_type": "stream",
     "text": [
      "6\n"
     ]
    }
   ],
   "source": [
    "# Calculating the length of the set\n",
    "Colour = {\"Black\", \"Blue\", \"Red\", \"Green\", \"Orange\", \"Violet\"}\n",
    "print(len(Colour))"
   ]
  },
  {
   "cell_type": "code",
   "execution_count": 104,
   "metadata": {},
   "outputs": [
    {
     "name": "stdout",
     "output_type": "stream",
     "text": [
      "{'Violet', 'Red', 'Black', 'Orange'}\n",
      "Violet\n",
      "{'Red', 'Black', 'Orange'}\n"
     ]
    }
   ],
   "source": [
    "# Removing the elements of the set\n",
    "# remove(), discard() and pop() can be used to remove the elements of a set\n",
    "# If the element to be removed is not present in the set, remove() will raise an error while discard() will not\n",
    "# pop() removes the last item from the set. A set is unordered, so the element which will be removed is not known\n",
    "Colour = {\"Black\", \"Blue\", \"Red\", \"Green\", \"Orange\", \"Violet\"}\n",
    "Colour.remove(\"Blue\")\n",
    "Colour.discard(\"Green\")\n",
    "print(Colour)\n",
    "x = Colour.pop()\n",
    "print(x)\n",
    "print(Colour)"
   ]
  },
  {
   "cell_type": "code",
   "execution_count": 105,
   "metadata": {},
   "outputs": [
    {
     "name": "stdout",
     "output_type": "stream",
     "text": [
      "set()\n"
     ]
    }
   ],
   "source": [
    "# Making a set empty\n",
    "Colour = {\"Black\", \"Blue\", \"Red\", \"Green\", \"Orange\", \"Violet\"}\n",
    "Colour.clear()\n",
    "print(Colour)"
   ]
  },
  {
   "cell_type": "code",
   "execution_count": 106,
   "metadata": {},
   "outputs": [
    {
     "ename": "NameError",
     "evalue": "name 'Colour' is not defined",
     "output_type": "error",
     "traceback": [
      "\u001b[1;31m---------------------------------------------------------------------------\u001b[0m",
      "\u001b[1;31mNameError\u001b[0m                                 Traceback (most recent call last)",
      "\u001b[1;32m<ipython-input-106-24c306e1453b>\u001b[0m in \u001b[0;36m<module>\u001b[1;34m\u001b[0m\n\u001b[0;32m      2\u001b[0m \u001b[0mColour\u001b[0m \u001b[1;33m=\u001b[0m \u001b[1;33m{\u001b[0m\u001b[1;34m\"Black\"\u001b[0m\u001b[1;33m,\u001b[0m \u001b[1;34m\"Blue\"\u001b[0m\u001b[1;33m,\u001b[0m \u001b[1;34m\"Red\"\u001b[0m\u001b[1;33m,\u001b[0m \u001b[1;34m\"Green\"\u001b[0m\u001b[1;33m,\u001b[0m \u001b[1;34m\"Orange\"\u001b[0m\u001b[1;33m,\u001b[0m \u001b[1;34m\"Violet\"\u001b[0m\u001b[1;33m}\u001b[0m\u001b[1;33m\u001b[0m\u001b[1;33m\u001b[0m\u001b[0m\n\u001b[0;32m      3\u001b[0m \u001b[1;32mdel\u001b[0m \u001b[0mColour\u001b[0m\u001b[1;33m\u001b[0m\u001b[1;33m\u001b[0m\u001b[0m\n\u001b[1;32m----> 4\u001b[1;33m \u001b[0mprint\u001b[0m\u001b[1;33m(\u001b[0m\u001b[0mColour\u001b[0m\u001b[1;33m)\u001b[0m\u001b[1;33m\u001b[0m\u001b[1;33m\u001b[0m\u001b[0m\n\u001b[0m",
      "\u001b[1;31mNameError\u001b[0m: name 'Colour' is not defined"
     ]
    }
   ],
   "source": [
    "# Deleting a set\n",
    "Colour = {\"Black\", \"Blue\", \"Red\", \"Green\", \"Orange\", \"Violet\"}\n",
    "del Colour\n",
    "print(Colour)"
   ]
  },
  {
   "cell_type": "code",
   "execution_count": 107,
   "metadata": {},
   "outputs": [
    {
     "name": "stdout",
     "output_type": "stream",
     "text": [
      "{'Violet', 'Orange', 'Green', 'Blue', 'Black', 'Red'}\n"
     ]
    }
   ],
   "source": [
    "# Copying a set\n",
    "Colour = {\"Black\", \"Blue\", \"Red\", \"Green\", \"Orange\", \"Violet\"}\n",
    "Color = Colour.copy()\n",
    "print(Color)"
   ]
  },
  {
   "cell_type": "code",
   "execution_count": 108,
   "metadata": {},
   "outputs": [
    {
     "name": "stdout",
     "output_type": "stream",
     "text": [
      "{'Coconut', 'Banana', 'Cauliflower', 'Cherry'}\n",
      "{'Google', 'Oracle', 'Sunrise', 'Microsoft'}\n"
     ]
    }
   ],
   "source": [
    "# difference() method\n",
    "# it returns a set that contains elements that exist only in the first set, and not in both sets.\n",
    "X = {\"Apple\", \"Banana\", \"Coconut\", \"Cherry\", \"Cauliflower\"}\n",
    "Y = {\"Google\", \"Microsoft\", \"Oracle\", \"Apple\", \"Sunrise\"}\n",
    "print(X.difference(Y))\n",
    "print(Y.difference(X))"
   ]
  },
  {
   "cell_type": "code",
   "execution_count": 109,
   "metadata": {},
   "outputs": [
    {
     "name": "stdout",
     "output_type": "stream",
     "text": [
      "{'Coconut', 'Cauliflower', 'Banana'}\n"
     ]
    }
   ],
   "source": [
    "# difference_update() method\n",
    "# it removes the commom elements from the first dataset.\n",
    "X = {\"Apple\", \"Banana\", \"Coconut\", \"Cherry\", \"Cauliflower\"}\n",
    "Y = {\"Google\", \"Microsoft\", \"Oracle\", \"Apple\", \"Sunrise\", \"Cherry\"}\n",
    "X.difference)_update(Y)\n",
    "print(X"
   ]
  },
  {
   "cell_type": "markdown",
   "metadata": {},
   "source": [
    "Q. What is the difference between difference() and difference_update() methods?\n",
    "\n",
    "Ans. The difference_update() method subtracts from an existing dataset, mutating it and potentially leaving it smaller than it originally was. The difference() method produces a new set, leaving the originals unchanged.\n",
    "\n",
    "Q. Because the difference_update updates sets, what precautions should be taken to avoid receiving a result of None from this method?\n",
    "\n",
    "Ans. Mutating methods generally retuen None as a way to indicate that they have mutated an object. The precaution is to not assign the \"None\" result to a variable.\n",
    "\n",
    "Q. In terms of speed, which method is faster?\n",
    "\n",
    "Ans. The difference_update() is faster as it simply discards values."
   ]
  },
  {
   "cell_type": "code",
   "execution_count": 110,
   "metadata": {},
   "outputs": [
    {
     "name": "stdout",
     "output_type": "stream",
     "text": [
      "{'Cherry', 'Apple'}\n"
     ]
    }
   ],
   "source": [
    "# intersection() method\n",
    "# it returns a set that contains all the elements that exist in both sets\n",
    "X = {\"Apple\", \"Banana\", \"Coconut\", \"Cherry\", \"Cauliflower\"}\n",
    "Y = {\"Google\", \"Microsoft\", \"Oracle\", \"Apple\", \"Sunrise\", \"Cherry\"}\n",
    "print(X.intersection(Y))"
   ]
  },
  {
   "cell_type": "code",
   "execution_count": 111,
   "metadata": {},
   "outputs": [
    {
     "name": "stdout",
     "output_type": "stream",
     "text": [
      "{'Cherry', 'Apple'}\n"
     ]
    }
   ],
   "source": [
    "# intersection_update() method\n",
    "# it removes the elements that are not present in all the sets \n",
    "X = {\"Apple\", \"Banana\", \"Coconut\", \"Cherry\", \"Cauliflower\"}\n",
    "Y = {\"Google\", \"Microsoft\", \"Oracle\", \"Apple\", \"Sunrise\", \"Cherry\"}\n",
    "X.intersection_update(Y)\n",
    "print(X)"
   ]
  },
  {
   "cell_type": "code",
   "execution_count": 112,
   "metadata": {},
   "outputs": [
    {
     "name": "stdout",
     "output_type": "stream",
     "text": [
      "False\n",
      "True\n"
     ]
    }
   ],
   "source": [
    "# isdisjoint() method\n",
    "# it returns TRUE if none of the elements are present in both sets, otherwise it returns FALSE\n",
    "X = {\"Apple\", \"Banana\", \"Coconut\", \"Cherry\", \"Cauliflower\"}\n",
    "Y = {\"Google\", \"Microsoft\", \"Oracle\", \"Apple\", \"Sunrise\"} \n",
    "Z = {\"Tiger\", \"Elephant\", \"Lion\", \"Leopard\"}\n",
    "print(X.isdisjoint(Y))\n",
    "print(X.isdisjoint(Z))"
   ]
  },
  {
   "cell_type": "code",
   "execution_count": 113,
   "metadata": {},
   "outputs": [
    {
     "name": "stdout",
     "output_type": "stream",
     "text": [
      "True\n",
      "False\n"
     ]
    }
   ],
   "source": [
    "# issubset() method\n",
    "# it returns TRUE if all items in the set exists in the specified set, otherwise it returns FALSE\n",
    "X = {\"a\", \"b\", \"c\"}\n",
    "Y = {\"f\", \"e\", \"d\", \"c\", \"b\", \"a\"}\n",
    "Z = {\"f\", \"e\", \"d\", \"c\", \"b\"}\n",
    "print(X.issubset(Y)) \n",
    "print(X.issubset(Z))"
   ]
  },
  {
   "cell_type": "code",
   "execution_count": 114,
   "metadata": {},
   "outputs": [
    {
     "name": "stdout",
     "output_type": "stream",
     "text": [
      "True\n",
      "False\n"
     ]
    }
   ],
   "source": [
    "# issuperset() method\n",
    "# it returns TRUE if all items in the specified set exists in the original set, otherwise it returns FALSE\n",
    "X = {\"f\", \"e\", \"d\", \"c\", \"b\", \"a\"}\n",
    "Y = {\"a\", \"b\", \"c\"}\n",
    "print(X.issuperset(Y))\n",
    "print(Y.issuperset(X))"
   ]
  },
  {
   "cell_type": "code",
   "execution_count": 115,
   "metadata": {},
   "outputs": [
    {
     "name": "stdout",
     "output_type": "stream",
     "text": [
      "{'Google', 'Coconut', 'Cauliflower', 'Cherry', 'Oracle', 'Banana', 'Sunrise', 'Microsoft'}\n"
     ]
    }
   ],
   "source": [
    "# symmetric_difference() method\n",
    "# it returns a set that contains all items from both set, but not the items that are present in both sets\n",
    "# the returned set contains a mix of items that are not present in both sets\n",
    "X = {\"Apple\", \"Banana\", \"Coconut\", \"Cherry\", \"Cauliflower\"}\n",
    "Y = {\"Google\", \"Microsoft\", \"Oracle\", \"Apple\", \"Sunrise\"} \n",
    "print(X.symmetric_difference(Y))"
   ]
  },
  {
   "cell_type": "code",
   "execution_count": 116,
   "metadata": {},
   "outputs": [
    {
     "name": "stdout",
     "output_type": "stream",
     "text": [
      "{'Google', 'Coconut', 'Oracle', 'Sunrise', 'Cauliflower', 'Cherry', 'Banana', 'Microsoft'}\n"
     ]
    }
   ],
   "source": [
    "# symmetric_difference_update() method\n",
    "# updates the original set by removing items that are present in both sets, and inserting the other items\n",
    "X = {\"Apple\", \"Banana\", \"Coconut\", \"Cherry\", \"Cauliflower\"}\n",
    "Y = {\"Google\", \"Microsoft\", \"Oracle\", \"Apple\", \"Sunrise\"} \n",
    "X.symmetric_difference_update(Y)\n",
    "print(X)"
   ]
  },
  {
   "cell_type": "code",
   "execution_count": 117,
   "metadata": {},
   "outputs": [
    {
     "name": "stdout",
     "output_type": "stream",
     "text": [
      "{'Cat', 'Leopard', 'Parrot', 'Lion', 'Eagle', 'Duck', 'Jaguar', 'Tiger'}\n",
      "{'Cat', 'Leopard', 'Sunflower', 'Parrot', 'Lion', 'Rose', 'Eagle', 'Duck', 'Lotus', 'Jaguar', 'Tiger'}\n"
     ]
    }
   ],
   "source": [
    "# union() method\n",
    "# it returns a set that contains all elements from the original set, and all items from the specified sets.\n",
    "# we can specify as many sets as we want, separated by commas.\n",
    "# if an element is present in more than one set, the result will contain only one appearance of this element\n",
    "X = {\"Tiger\", \"Lion\", \"Leopard\", \"Jaguar\", \"Cat\"}\n",
    "Y = {\"Eagle\", \"Parrot\", \"Duck\", \"Cat\", \"Lion\"}\n",
    "Z = {\"Rose\", \"Lotus\", \"Sunflower\", \"Cat\", \"Duck\"}\n",
    "print(X.union(Y))\n",
    "print(X.union(Y, Z))"
   ]
  },
  {
   "cell_type": "code",
   "execution_count": null,
   "metadata": {},
   "outputs": [],
   "source": []
  }
 ],
 "metadata": {
  "kernelspec": {
   "display_name": "Python 3",
   "language": "python",
   "name": "python3"
  },
  "language_info": {
   "codemirror_mode": {
    "name": "ipython",
    "version": 3
   },
   "file_extension": ".py",
   "mimetype": "text/x-python",
   "name": "python",
   "nbconvert_exporter": "python",
   "pygments_lexer": "ipython3",
   "version": "3.7.2"
  }
 },
 "nbformat": 4,
 "nbformat_minor": 2
}
